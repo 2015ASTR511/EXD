{
 "metadata": {
  "name": "",
  "signature": "sha256:cd9d5c57863a06c0f499895fd44d0b442f7aab2e7cf97ea0fbe7a3f6d765f9dc"
 },
 "nbformat": 3,
 "nbformat_minor": 0,
 "worksheets": [
  {
   "cells": [
    {
     "cell_type": "markdown",
     "metadata": {},
     "source": [
      "David Fleming\n",
      "Test notebook for Astr 511 Project 3\n",
      "\n",
      "#Notes\n",
      "Added a function (cleanseData) that selects the \"good\" objects from the entire data set and returns an array full of good objects.  See function description for methods."
     ]
    },
    {
     "cell_type": "code",
     "collapsed": false,
     "input": [
      "#Imports\n",
      "import matplotlib.pylab as plt\n",
      "import numpy as np\n",
      "import pyfits \n",
      "import os\n",
      "from astroML.stats import binned_statistic_2d\n",
      "from sklearn.decomposition import PCA\n",
      "\n",
      "#Typical plot parameters that make for pretty plots\n",
      "plt.rcParams['figure.figsize'] = (10,6)\n",
      "plt.rcParams['font.size'] = 18"
     ],
     "language": "python",
     "metadata": {},
     "outputs": [],
     "prompt_number": 6
    },
    {
     "cell_type": "code",
     "collapsed": false,
     "input": [
      "#Define directory where data is\n",
      "cwd = \"/astro/store/scratch/tmp/EXD\""
     ],
     "language": "python",
     "metadata": {},
     "outputs": [],
     "prompt_number": 7
    },
    {
     "cell_type": "code",
     "collapsed": false,
     "input": [
      "#Change directories to where data is for processing\n",
      "os.chdir(cwd)"
     ],
     "language": "python",
     "metadata": {},
     "outputs": [],
     "prompt_number": 8
    },
    {
     "cell_type": "code",
     "collapsed": false,
     "input": [
      "#Define plotting function from Ivezic\n",
      "def funcStdDev(vector):\n",
      "    return np.sqrt(np.var(vector))\n",
      "\n",
      "def plotPanel(axes, xVec, yVec, zVec, CCstat=\"\", CCtype=\"\", xMin=\"\", xMax=\"\", yMin=\"\", yMax=\"\", xLabel=\"\", yLabel=\"\", title=\"\"):\n",
      "    \"\"\"\n",
      "    General heat map plotting utility\n",
      "    \"\"\"\n",
      "    #Axes, etc.\n",
      "    #Set axes limits\n",
      "    if (xMin==\"\"): xMin = np.min(xVec)\n",
      "    if (xMax==\"\"): xMax = np.max(xVec)\n",
      "    axes.set_xlim(xMin, xMax)\n",
      "    if (yMin==\"\"): yMin = np.min(yVec)\n",
      "    if (yMax==\"\"): yMax = np.max(yVec)\n",
      "    axes.set_ylim(yMin, yMax)\n",
      "    \n",
      "    #Set axes labels\n",
      "    if (xLabel==\"\"): xLabel = \"X\"\n",
      "    if (yLabel==\"\"): yLabel = \"Y\"\n",
      "    axes.set_xlabel(xLabel, fontsize=14)\n",
      "    axes.set_ylabel(yLabel, fontsize=14)\n",
      "    \n",
      "    #Set title\n",
      "    axes.set_title(title)\n",
      "    # make bigger ticmark labels\n",
      "    for tick in axes.xaxis.get_major_ticks():\n",
      "        tick.label.set_fontsize(12)\n",
      "    for tick in axes.yaxis.get_major_ticks():\n",
      "        tick.label.set_fontsize(12)\n",
      "   \n",
      "    #Bin data using astroML 2dBinned stats\n",
      "    N, xedges, yedges = binned_statistic_2d(xVec, yVec, zVec,'count', bins=100)\n",
      "    if (CCstat==\"\"):\n",
      "        Zmean, xedges, yedges = binned_statistic_2d(xVec, yVec, zVec,'median', bins=100)\n",
      "    else:\n",
      "        Zmean, xedges, yedges = binned_statistic_2d(xVec, yVec, zVec,funcStdDev, bins=100)\n",
      "    \n",
      "    ## plot\n",
      "    cmap_multicolor = plt.cm.jet\n",
      "    cmap_multicolor.set_bad('w', 1.)\n",
      "    plt.imshow(Zmean.T, origin='lower',\n",
      "        extent=[xedges[0], xedges[-1], yedges[0], yedges[-1]],\n",
      "        aspect='auto', interpolation='nearest', cmap=cmap_multicolor)\n",
      "\n",
      "    # special cases\n",
      "    if (CCtype==\"FeH\"):\n",
      "        cb = plt.colorbar(ticks=np.arange(-2.5, 1, 1), pad=0.16,\n",
      "            format=r'$%.1f$', orientation='horizontal')\n",
      "        cb.set_label(r'$\\mathrm{Median\\ [Fe/H]\\ in\\ pixel}$', fontsize=12)\n",
      "        plt.clim(-2.5, 0.5)\n",
      "    if (CCtype==\"logg\"):\n",
      "        cb = plt.colorbar(ticks=np.arange(0, 4, 1), pad=0.16,\n",
      "            format=r'$%.1f$', orientation='horizontal')\n",
      "        cb.set_label(r'$\\mathrm{Median\\ log(g)\\ in\\ pixel}$', fontsize=12)\n",
      "        plt.clim(0, 4)\n",
      "    if (CCtype==\"vRad\"):\n",
      "        cb = plt.colorbar(ticks=np.arange(0, 150, 25), pad=0.16,\n",
      "            format=r'$%.1f$', orientation='horizontal')\n",
      "        cb.set_label(r'$\\mathrm{\\ vel. disp. (km/s) \\ in\\ pixel}$', fontsize=12)\n",
      "        plt.clim(0, 150)\n",
      "\n",
      "    # density contours over the colors\n",
      "    levels = np.linspace(0, np.log10(N.max()), 7)[2:]\n",
      "    plt.contour(np.log10(N.T), levels, colors='k',\n",
      "        extent=[xedges[0], xedges[-1], yedges[0], yedges[-1]])\n",
      "    \n",
      "#end function"
     ],
     "language": "python",
     "metadata": {},
     "outputs": [],
     "prompt_number": 9
    },
    {
     "cell_type": "code",
     "collapsed": false,
     "input": [
      "#Read in data following procedure of Ivezic\n",
      "#####################################################################\n",
      "### read APOGEE parameters\n",
      "# from SDSS Data Release 12\n",
      "data = pyfits.open('allStar-v603.fits')[1].data[::1] # 163,278\n",
      "\n",
      "title = \"APOGEE, Full Sky\""
     ],
     "language": "python",
     "metadata": {},
     "outputs": [],
     "prompt_number": 67
    },
    {
     "cell_type": "code",
     "collapsed": false,
     "input": [
      "#Function to return subsection of data that's good\n",
      "def cleanseData(data):\n",
      "    \"\"\"\n",
      "    Searches bitmask data for the following conditions and returns the array in which all of them are false (i.e. good data).\n",
      "    This function only searches for BAD flags and warnings are ingnored.\n",
      "    Flags/values taken from sdss3.org/dr10/algorithms/bitmask_apogee_(name of flag).php.\n",
      "    Also, flags noted in Holtzman+2015 are used for our metal case\n",
      "    \n",
      "    Note: To convert from bit digits to normal numbers, n = 2^(bit digit)\n",
      "    ex: 4 = 2^(bit 2)\n",
      "    \n",
      "    Input:\n",
      "    APOGEE data array containing 15 metals .fits data named \"allStar-v603.fits\"\n",
      "    \n",
      "    Output: \n",
      "    Data array containing all the objects without bad flags or the flags deemed bad for metals in Holtzman+2015\n",
      "    \n",
      "    Conditions of the form:\n",
      "    \n",
      "    condition: bitmask value\n",
      "   \n",
      "    ASPCAPFLAG:\n",
      "    \n",
      "    STAR_BAD: 23\n",
      "    VMICRO_BAD: 18\n",
      "    METALS_BAD: 19\n",
      "    ALPHAFE_BAD: 20\n",
      "    CFE_BAD: 21\n",
      "    NFE_BAD: 22\n",
      "    NO_ASPCAP_RESULT: 31\n",
      "    \n",
      "    STARFLAG:\n",
      "    \n",
      "    BAD_PIXELS: 0\n",
      "    VERY_BRIGHT_NEIGHBOR: 3\n",
      "    LOW_SNR: 4\n",
      "    \n",
      "    PARAMFLAG:\n",
      "    \n",
      "    GRIDEDGE_BAD: 0\n",
      "    CALRANGE_BAD: 1\n",
      "    OTHER_BAD: 2\n",
      "    GRIDEDGE_WARN: 8\n",
      "    \"\"\"\n",
      "    #Define arrays for bitmasks for each respective category\n",
      "    ABits = data['ASPCAPFLAG']\n",
      "    PBits = data['PARAMFLAG']\n",
      "    SBits = data['STARFLAG']\n",
      "    \n",
      "    #Define lists of bits we're looking for\n",
      "    ABitFlags = [18,19,20,21,22,23]\n",
      "    PBitFlags = [0,1,2,8]\n",
      "    SBitFlags = [0,3,4]\n",
      "    \n",
      "    #Define mask to eventually use to select data\n",
      "    mask = np.ones(len(data))\n",
      "        \n",
      "    #Loop over ASPCAPFLAGS\n",
      "    for value in ABitFlags:\n",
      "        n = 2**value\n",
      "        mask = np.logical_and(mask,(np.bitwise_and(ABits,n) == 0))\n",
      "                \n",
      "    #Loop over PARAMFLAGS.  Must hold for all 7 params! (Teff,log(g), etc)\n",
      "    for i in range(0,7):\n",
      "        for value in PBitFlags:\n",
      "            n = 2**value\n",
      "            mask = np.logical_and(mask,(np.bitwise_and(PBits[:,i],n) == 0))\n",
      "    \n",
      "    #Loop over STARFLAGS\n",
      "    for value in SBitFlags:\n",
      "        n = 2**value\n",
      "        mask = np.logical_and(mask,(np.bitwise_and(SBits,n) == 0))\n",
      "    \n",
      "    \n",
      "    return data[mask]\n",
      "\n",
      "#end function"
     ],
     "language": "python",
     "metadata": {},
     "outputs": [],
     "prompt_number": 60
    },
    {
     "cell_type": "code",
     "collapsed": false,
     "input": [
      "#Slice data, check to see how many I cut off\n",
      "dataOK = cleanseData(data)\n",
      "print len(dataOK)\n",
      "print len(data)"
     ],
     "language": "python",
     "metadata": {},
     "outputs": [
      {
       "output_type": "stream",
       "stream": "stdout",
       "text": [
        "104027\n",
        "163278\n"
       ]
      }
     ],
     "prompt_number": 61
    },
    {
     "cell_type": "code",
     "collapsed": false,
     "input": [
      "## select good data and make vectors for convenience\n",
      "#Make IV quality cuts\n",
      "# some ad hoc quality cuts\n",
      "OKcond = ((dataOK['LOGG'] > -10) & (dataOK['PARAM_M_H'] > -10))\n",
      "OKcond = (OKcond & (dataOK['J'] > -10) & (dataOK['J'] < 30))\n",
      "OKcond = (OKcond & (dataOK['H'] > -10) & (dataOK['H'] < 30))\n",
      "OKcond = (OKcond & (dataOK['K'] > -10) & (dataOK['K'] < 30))\n",
      "\n",
      "# and some more severe cuts\n",
      "# we don't want very bright objects as they seem outliers (~500)\n",
      "\n",
      "OKcond = (OKcond & (dataOK['K'] > 6.0))\n",
      "\n",
      "#TODO\n",
      "### ZI: but the above is so sloppy and unbecoming of a good survey\n",
      "### astronomer - we need to (also) use FLAGS!!!\n",
      "# full sky; 101,399\n",
      "dataOK = dataOK[OKcond]\n",
      "\n",
      "J = dataOK['J']\n",
      "H = dataOK['H']\n",
      "K = dataOK['K']\n",
      "JK = J-K\n",
      "logg = dataOK['LOGG']\n",
      "Teff = dataOK['TEFF']\n",
      "FeH = dataOK['PARAM_M_H']\n",
      "alphaFe = dataOK['PARAM_ALPHA_M']\n",
      "gLat = dataOK['GLAT']\n",
      "W2 = dataOK['WISE_4_5']\n",
      "KW2 = K-W2\n",
      "vRad = dataOK['VHELIO_AVG']"
     ],
     "language": "python",
     "metadata": {},
     "outputs": [],
     "prompt_number": 62
    },
    {
     "cell_type": "code",
     "collapsed": false,
     "input": [
      "#Test plots following Ivezic\n",
      "# Create figure and subplots\n",
      "fig = plt.figure(figsize=(8, 8))\n",
      "fig.subplots_adjust(wspace=0.25, left=0.1, right=0.95, bottom=0.12, top=0.95)\n",
      "\n",
      "# K vs. J-K color-magnitude diagram\n",
      "axes = plt.subplot(221)\n",
      "plotPanel(axes, JK, K, logg, CCtype=\"logg\", xMin=0.0, xMax=4.0, yMin=14.01, yMax=6.0,\n",
      "    xLabel=\"J-K\", yLabel=\"K\", title=title)\n",
      "\n",
      "# logg vs. Teff, color-coded by mean FeH\n",
      "axes = plt.subplot(222)\n",
      "plotPanel(axes, Teff, logg, FeH, CCtype=\"FeH\", xMin=5500, xMax=3500, yMin=4.2, yMax=-0.5,\n",
      "    xLabel=r'$\\mathrm{T_{eff}}$', yLabel=\"log(g)\")\n",
      "\n",
      "# [alpha/Fe] vs. [Fe/H], color-coded by logg\n",
      "axes = plt.subplot(223)\n",
      "plotPanel(axes, FeH, alphaFe, logg, CCtype=\"logg\", xMin=-1.8, xMax=0.5, yMin=-0.2, yMax=0.5,\n",
      "    xLabel=r'$\\mathrm{[Fe/H]}}$', yLabel=r'$\\mathrm{[\\alpha/Fe]}}$')\n",
      "\n",
      "# [alpha/Fe] vs. [Fe/H], color-coded by radial velocity\n",
      "axes = plt.subplot(224)\n",
      "plotPanel(axes, FeH, alphaFe, vRad, CCstat=\"stdev\", CCtype=\"vRad\", xMin=-1.8, xMax=0.5, yMin=-0.2, yMax=0.5,\n",
      "    xLabel=r'$\\mathrm{[Fe/H]}}$', yLabel=r'$\\mathrm{[\\alpha/Fe]}}$')\n",
      "\n",
      "\n",
      "#plt.savefig('./apogee1.png')\n",
      "plt.show() "
     ],
     "language": "python",
     "metadata": {},
     "outputs": [],
     "prompt_number": 66
    },
    {
     "cell_type": "code",
     "collapsed": false,
     "input": [
      "#Another test plot from Ivezic\n",
      "# Create figure and subplots\n",
      "fig = plt.figure(figsize=(8, 8))\n",
      "fig.subplots_adjust(wspace=0.45, left=0.1, right=0.95, bottom=0.12, top=0.95)\n",
      "\n",
      "# [alpha/Fe] vs. [Fe/H], color-coded by logg\n",
      "axes = plt.subplot(441, xticks=[-1.5, -0.5, 0.5])\n",
      "plotPanel(axes, FeH, alphaFe, logg, CCtype=\"logg\", xMin=-1.8, xMax=0.8, yMin=-0.2, yMax=0.5,\n",
      "yLabel=r'$\\mathrm{[\\alpha/Fe]}}$', title=title)\n",
      "plotNo = 1\n",
      "elemList = ('AL', 'CA', 'C', 'FE', 'K', 'MG', 'MN', 'NA', 'NI', 'N', 'O', 'SI', 'S', 'TI', 'V')\n",
      "\n",
      "for elem in elemList:\n",
      "    name = elem + '_H'\n",
      "    plotNo += 1\n",
      "    print 'name = ', name, ' panel: ', plotNo\n",
      "    axes = plt.subplot(4, 4, plotNo, xticks=[-1.5, -0.5, 0.5])\n",
      "    condX = (dataOK[name] > -1.5) & (dataOK[name] < 1.0)\n",
      "    xVec = FeH[condX]\n",
      "    yVec = dataOK[name][condX]\n",
      "    zVec = logg[condX]\n",
      "    xLabel = \"\"\n",
      "    if (plotNo > 12): xLabel='$\\mathrm{[Fe/H]}}$'\n",
      "    plotPanel(axes, xVec, yVec, zVec, CCtype=\"loggSmall\", xMin=-1.8, xMax=0.8, yMin=-1.5, yMax=1.0,\n",
      "        xLabel=xLabel, yLabel=elem)\n",
      "    axes.plot([-1.8, 1.0], [-1.8, 1.0], 'b--', linewidth=1)\n",
      "\n",
      "#plt.savefig('./apogee2.png')\n",
      "plt.show() "
     ],
     "language": "python",
     "metadata": {},
     "outputs": [
      {
       "output_type": "stream",
       "stream": "stdout",
       "text": [
        "name =  AL_H  panel:  2\n",
        "name = "
       ]
      },
      {
       "output_type": "stream",
       "stream": "stdout",
       "text": [
        " CA_H  panel:  3\n",
        "name = "
       ]
      },
      {
       "output_type": "stream",
       "stream": "stdout",
       "text": [
        " C_H  panel:  4\n",
        "name = "
       ]
      },
      {
       "output_type": "stream",
       "stream": "stdout",
       "text": [
        " FE_H  panel:  5\n",
        "name = "
       ]
      },
      {
       "output_type": "stream",
       "stream": "stdout",
       "text": [
        " K_H  panel:  6\n",
        "name = "
       ]
      },
      {
       "output_type": "stream",
       "stream": "stdout",
       "text": [
        " MG_H  panel:  7\n",
        "name = "
       ]
      },
      {
       "output_type": "stream",
       "stream": "stdout",
       "text": [
        " MN_H  panel:  8\n",
        "name = "
       ]
      },
      {
       "output_type": "stream",
       "stream": "stdout",
       "text": [
        " NA_H  panel:  9\n",
        "name = "
       ]
      },
      {
       "output_type": "stream",
       "stream": "stdout",
       "text": [
        " NI_H  panel:  10\n",
        "name = "
       ]
      },
      {
       "output_type": "stream",
       "stream": "stdout",
       "text": [
        " N_H  panel:  11\n",
        "name = "
       ]
      },
      {
       "output_type": "stream",
       "stream": "stdout",
       "text": [
        " O_H  panel:  12\n",
        "name = "
       ]
      },
      {
       "output_type": "stream",
       "stream": "stdout",
       "text": [
        " SI_H  panel:  13\n",
        "name = "
       ]
      },
      {
       "output_type": "stream",
       "stream": "stdout",
       "text": [
        " S_H  panel:  14\n",
        "name = "
       ]
      },
      {
       "output_type": "stream",
       "stream": "stdout",
       "text": [
        " TI_H  panel:  15\n",
        "name = "
       ]
      },
      {
       "output_type": "stream",
       "stream": "stdout",
       "text": [
        " V_H  panel:  16\n"
       ]
      }
     ],
     "prompt_number": 23
    },
    {
     "cell_type": "code",
     "collapsed": false,
     "input": [],
     "language": "python",
     "metadata": {},
     "outputs": []
    }
   ],
   "metadata": {}
  }
 ]
}